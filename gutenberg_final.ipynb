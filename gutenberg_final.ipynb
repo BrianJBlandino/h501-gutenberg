{
 "cells": [
  {
   "cell_type": "code",
   "execution_count": 3,
   "id": "b93a0125",
   "metadata": {},
   "outputs": [],
   "source": [
    "from tt_gutenberg.authors import *"
   ]
  },
  {
   "cell_type": "code",
   "execution_count": 4,
   "id": "0e4398d3",
   "metadata": {},
   "outputs": [
    {
     "data": {
      "text/html": [
       "<div>\n",
       "<style scoped>\n",
       "    .dataframe tbody tr th:only-of-type {\n",
       "        vertical-align: middle;\n",
       "    }\n",
       "\n",
       "    .dataframe tbody tr th {\n",
       "        vertical-align: top;\n",
       "    }\n",
       "\n",
       "    .dataframe thead th {\n",
       "        text-align: right;\n",
       "    }\n",
       "</style>\n",
       "<table border=\"1\" class=\"dataframe\">\n",
       "  <thead>\n",
       "    <tr style=\"text-align: right;\">\n",
       "      <th></th>\n",
       "      <th>alias</th>\n",
       "      <th>translation_count</th>\n",
       "    </tr>\n",
       "  </thead>\n",
       "  <tbody>\n",
       "    <tr>\n",
       "      <th>3840</th>\n",
       "      <td>Jarvis, E. K.</td>\n",
       "      <td>3</td>\n",
       "    </tr>\n",
       "    <tr>\n",
       "      <th>3535</th>\n",
       "      <td>Holmes, Gordon</td>\n",
       "      <td>2</td>\n",
       "    </tr>\n",
       "    <tr>\n",
       "      <th>7790</th>\n",
       "      <td>Willis, R. (Robert)</td>\n",
       "      <td>2</td>\n",
       "    </tr>\n",
       "    <tr>\n",
       "      <th>5450</th>\n",
       "      <td>Paganino, Rodrigo Botelho da Fonseca</td>\n",
       "      <td>1</td>\n",
       "    </tr>\n",
       "    <tr>\n",
       "      <th>5452</th>\n",
       "      <td>Paget, Violet</td>\n",
       "      <td>1</td>\n",
       "    </tr>\n",
       "    <tr>\n",
       "      <th>...</th>\n",
       "      <td>...</td>\n",
       "      <td>...</td>\n",
       "    </tr>\n",
       "    <tr>\n",
       "      <th>2719</th>\n",
       "      <td>Gardiner, Edward Norman</td>\n",
       "      <td>1</td>\n",
       "    </tr>\n",
       "    <tr>\n",
       "      <th>2718</th>\n",
       "      <td>Gannon, Frederic Augustus</td>\n",
       "      <td>1</td>\n",
       "    </tr>\n",
       "    <tr>\n",
       "      <th>2717</th>\n",
       "      <td>Gannett, Ezra Stiles</td>\n",
       "      <td>1</td>\n",
       "    </tr>\n",
       "    <tr>\n",
       "      <th>2716</th>\n",
       "      <td>Gann, Thomas W. F. (Thomas William Francis)</td>\n",
       "      <td>1</td>\n",
       "    </tr>\n",
       "    <tr>\n",
       "      <th>2731</th>\n",
       "      <td>Garnett, H. H. (Henry Highland)</td>\n",
       "      <td>1</td>\n",
       "    </tr>\n",
       "  </tbody>\n",
       "</table>\n",
       "<p>8183 rows × 2 columns</p>\n",
       "</div>"
      ],
      "text/plain": [
       "                                            alias  translation_count\n",
       "3840                                Jarvis, E. K.                  3\n",
       "3535                               Holmes, Gordon                  2\n",
       "7790                          Willis, R. (Robert)                  2\n",
       "5450         Paganino, Rodrigo Botelho da Fonseca                  1\n",
       "5452                                Paget, Violet                  1\n",
       "...                                           ...                ...\n",
       "2719                      Gardiner, Edward Norman                  1\n",
       "2718                    Gannon, Frederic Augustus                  1\n",
       "2717                         Gannett, Ezra Stiles                  1\n",
       "2716  Gann, Thomas W. F. (Thomas William Francis)                  1\n",
       "2731              Garnett, H. H. (Henry Highland)                  1\n",
       "\n",
       "[8183 rows x 2 columns]"
      ]
     },
     "execution_count": 4,
     "metadata": {},
     "output_type": "execute_result"
    }
   ],
   "source": [
    "list_authors(by_languages = False, alias = True)"
   ]
  },
  {
   "cell_type": "code",
   "execution_count": null,
   "id": "0312a0d3",
   "metadata": {},
   "outputs": [],
   "source": []
  }
 ],
 "metadata": {
  "kernelspec": {
   "display_name": "Python 3",
   "language": "python",
   "name": "python3"
  },
  "language_info": {
   "codemirror_mode": {
    "name": "ipython",
    "version": 3
   },
   "file_extension": ".py",
   "mimetype": "text/x-python",
   "name": "python",
   "nbconvert_exporter": "python",
   "pygments_lexer": "ipython3",
   "version": "3.13.7"
  }
 },
 "nbformat": 4,
 "nbformat_minor": 5
}
